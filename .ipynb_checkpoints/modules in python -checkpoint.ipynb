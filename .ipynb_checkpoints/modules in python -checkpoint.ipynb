{
 "cells": [
  {
   "cell_type": "markdown",
   "metadata": {},
   "source": [
    "# Modules and Standard Libaries \n",
    "- function cannot be used outside the jupyter notebook but modules does\n",
    "- put all the functions in the file called .py to create a module so that you can use it anywhere\n",
    "- create the new text file from the jupyter and give the name for the module \n",
    "- paste the function that you created and save the file with .py extension \n",
    "- Run using any where afer importing the module "
   ]
  },
  {
   "cell_type": "code",
   "execution_count": 8,
   "metadata": {},
   "outputs": [],
   "source": [
    "def area_circle(r):\n",
    "    area = 3.14 * r * r\n",
    "    return area"
   ]
  },
  {
   "cell_type": "code",
   "execution_count": null,
   "metadata": {},
   "outputs": [],
   "source": []
  }
 ],
 "metadata": {
  "kernelspec": {
   "display_name": "Python 3",
   "language": "python",
   "name": "python3"
  },
  "language_info": {
   "codemirror_mode": {
    "name": "ipython",
    "version": 3
   },
   "file_extension": ".py",
   "mimetype": "text/x-python",
   "name": "python",
   "nbconvert_exporter": "python",
   "pygments_lexer": "ipython3",
   "version": "3.8.5"
  }
 },
 "nbformat": 4,
 "nbformat_minor": 4
}
