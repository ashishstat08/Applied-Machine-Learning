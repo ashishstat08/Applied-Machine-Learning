{
 "cells": [
  {
   "cell_type": "markdown",
   "metadata": {},
   "source": [
    "# Assignment 1 "
   ]
  },
  {
   "cell_type": "code",
   "execution_count": 1,
   "metadata": {},
   "outputs": [],
   "source": [
    "import itertools"
   ]
  },
  {
   "cell_type": "code",
   "execution_count": 2,
   "metadata": {},
   "outputs": [],
   "source": [
    "student_marks= [['Name',['A','B','C','D','E']],\n",
    "                ['Ankit',[41,34,45,55,63]],\n",
    "                ['Aravind',[42,23,34,44,53]],\n",
    "                ['lakshay',[32,23,13,54,67]],\n",
    "                ['Gyan',[23,82,23,63,34]],\n",
    "                ['Pranav',[21,23,25,56,56]]\n",
    "               ]"
   ]
  },
  {
   "cell_type": "markdown",
   "metadata": {},
   "source": [
    "# 🙇 Who scored the highest marks in the subject B?"
   ]
  },
  {
   "cell_type": "code",
   "execution_count": 56,
   "metadata": {},
   "outputs": [
    {
     "name": "stdout",
     "output_type": "stream",
     "text": [
      "Gyan scores the highest marks in Subject B i.e 82\n"
     ]
    }
   ],
   "source": [
    "Students_with_mark_B = []\n",
    "\n",
    "for students in student_marks[1:]:\n",
    "    name = students[0]\n",
    "    marks = students[1][1]\n",
    "    Students_with_mark_B.append([marks,name])\n",
    "\n",
    "sorted_marks = sorted(Students_with_mark_B,reverse=True)\n",
    "\n",
    "print(\"{} scores the highest marks in Subject B i.e {}\".format(sorted_marks[0][1],sorted_marks[0][0]))\n"
   ]
  },
  {
   "cell_type": "code",
   "execution_count": 57,
   "metadata": {},
   "outputs": [
    {
     "data": {
      "text/plain": [
       "[[82, 'Gyan'], [34, 'Ankit'], [23, 'lakshay'], [23, 'Pranav'], [23, 'Aravind']]"
      ]
     },
     "execution_count": 57,
     "metadata": {},
     "output_type": "execute_result"
    }
   ],
   "source": [
    "sorted_marks"
   ]
  },
  {
   "cell_type": "markdown",
   "metadata": {},
   "source": [
    "# What is the average marks scored in the subject C?\n"
   ]
  },
  {
   "cell_type": "code",
   "execution_count": 3,
   "metadata": {},
   "outputs": [
    {
     "name": "stdout",
     "output_type": "stream",
     "text": [
      "Average of Subject C 28.0\n"
     ]
    }
   ],
   "source": [
    "def avg_sub(data,sub):\n",
    "    \n",
    "    sum_sub = 0\n",
    "    len_sub = 0\n",
    "    \n",
    "    for i in data[1:]:\n",
    "        student_in_C = i[1][sub]\n",
    "        sum_sub += student_in_C\n",
    "        len_sub = len_sub +1\n",
    "\n",
    "    avg_sub = sum_sub/len_sub\n",
    "    \n",
    "    if sub == 0:\n",
    "        print(\"Average of Subject A : \", avg_sub)\n",
    "    elif sub == 1 :\n",
    "            print(\"Average of Subject B\", avg_sub)\n",
    "    elif sub == 2 :\n",
    "            print(\"Average of Subject C\", avg_sub)\n",
    "    elif sub == 3 :\n",
    "            print(\"Average of Subject D\", avg_sub)\n",
    "    elif sub == 4: \n",
    "            print(\"Average of Subject E\", avg_sub)\n",
    "\n",
    "avg_sub(student_marks,2)"
   ]
  },
  {
   "cell_type": "markdown",
   "metadata": {},
   "source": [
    "## Who scored the highest percentage of marks?"
   ]
  },
  {
   "cell_type": "code",
   "execution_count": 27,
   "metadata": {},
   "outputs": [
    {
     "name": "stdout",
     "output_type": "stream",
     "text": [
      "Highest percentage achieved by Ankit = 23\n"
     ]
    }
   ],
   "source": [
    "student_marks= [['Name',['A','B','C','D','E']],\n",
    "                ['Ankit',[41,34,45,55,63]],\n",
    "                ['Aravind',[42,23,34,44,53]],\n",
    "                ['lakshay',[32,23,13,54,67]],\n",
    "                ['Gyan',[23,82,23,63,34]],\n",
    "                ['Pranav',[21,23,25,56,56]]\n",
    "               ]\n",
    "\n",
    "def highest_percentage_marks(data):\n",
    "    \n",
    "    total_marks = 0\n",
    "    ankit_total_marks = []\n",
    "    aravind_total_marks = []\n",
    "    lakshya_total_marks = []\n",
    "    gyan_total_marks = []\n",
    "    pranav_total_marks = []\n",
    "    marks_percentage = []\n",
    "    \n",
    "    for student,marks in data[1:]:    \n",
    "        for k in marks:              # calcualting the total marks of all the students across subject\n",
    "            total_marks +=k\n",
    "            \n",
    "        student_name = student       # separating the data for each student\n",
    "        if student_name == 'Ankit':\n",
    "            ankit_total_marks.append(marks)\n",
    "        if student_name == 'Aravind':\n",
    "            aravind_total_marks.append(marks)\n",
    "        if student_name == 'lakshay':\n",
    "            lakshya_total_marks.append(marks)\n",
    "        if student_name == 'Gyan':\n",
    "            gyan_total_marks.append(marks)\n",
    "        if student_name == 'Pranav':\n",
    "            pranav_total_marks.append(marks)\n",
    "\n",
    "    for i in ankit_total_marks:\n",
    "        result = int((sum(i)/total_marks)*100) # Taking percentage for each of the student \n",
    "        marks_percentage.append([result])\n",
    "\n",
    "    for i in aravind_total_marks:\n",
    "        result = int((sum(i)/total_marks)*100)\n",
    "        marks_percentage.append([result])\n",
    "        \n",
    "    for i in lakshya_total_marks:\n",
    "        result = int((sum(i)/total_marks)*100)\n",
    "        marks_percentage.append([result])\n",
    "        \n",
    "    for i in gyan_total_marks:\n",
    "        result = int((sum(i)/total_marks)*100)\n",
    "        marks_percentage.append([result])\n",
    "        \n",
    "    for i in pranav_total_marks:\n",
    "        result = int((sum(i)/total_marks)*100)\n",
    "        marks_percentage.append([result])\n",
    "   \n",
    "    name_stu = []                              # extracting the data for each student\n",
    "    for i in data[1:]:                     \n",
    "        name = i[0]\n",
    "        name_stu.append([name])\n",
    "        \n",
    "    \n",
    "    name_marks=[]                             # combining the marks and names into one single list \n",
    "    for (i,j) in itertools.zip_longest(marks_percentage, name_stu):\n",
    "        name_marks.append([i,j])\n",
    "    \n",
    "    sorted_percentage_student=sorted(name_marks,reverse=True) # sorting of the data in descending order\n",
    "    \n",
    "    point = {'name':max(sorted_percentage_student)[1][0],'marks': max(sorted_percentage_student)[0][0]}\n",
    "    print(\"Highest percentage achieved by {name} = {marks}\".format_map(point))\n",
    "    \n",
    "highest_percentage_marks(student_marks)"
   ]
  },
  {
   "cell_type": "markdown",
   "metadata": {},
   "source": [
    "## If considered only top-4 subjects of a candidate, then who scored the highestpercentage of marks"
   ]
  },
  {
   "cell_type": "code",
   "execution_count": 6,
   "metadata": {},
   "outputs": [],
   "source": [
    "student_marks_1 = student_marks.copy()"
   ]
  },
  {
   "cell_type": "code",
   "execution_count": 34,
   "metadata": {},
   "outputs": [],
   "source": [
    "student_marks= [['Name',['A','B','C','D','E']],\n",
    "                ['Ankit',[41,34,44,55,63]],\n",
    "                ['Aravind',[42,23,34,44,53]],\n",
    "                ['lakshay',[32,23,13,54,67]],\n",
    "                ['Gyan',[23,82,23,63,34]],\n",
    "                ['Pranav',[21,23,25,56,56]]\n",
    "               ]\n",
    "\n",
    "def highest_percentage_marks_top4(data):\n",
    "    \n",
    "    filtered_name = []\n",
    "    filtered_marks = []\n",
    "    total_marks = 0\n",
    "    ankit_total_marks = []\n",
    "    aravind_total_marks = []\n",
    "    lakshya_total_marks = []\n",
    "    gyan_total_marks = []\n",
    "    pranav_total_marks = []\n",
    "    marks_percentage = []\n",
    "    names_mark = []\n",
    "\n",
    "    for name , marks in data[1:]:\n",
    "        filtered_name.append(name)\n",
    "        filtered_marks.append(marks[0:4])\n",
    "\n",
    "    for k in filtered_marks:\n",
    "        for l in k:\n",
    "            total_marks += l\n",
    "\n",
    "    for (name,marks) in itertools.zip_longest(filtered_name, filtered_marks):\n",
    "\n",
    "        student_name = name\n",
    "        if student_name == 'Ankit':\n",
    "            ankit_total_marks.append(marks)\n",
    "        if student_name == 'Aravind':\n",
    "            aravind_total_marks.append(marks)\n",
    "        if student_name == 'lakshay':\n",
    "            lakshya_total_marks.append(marks)\n",
    "        if student_name == 'Gyan':\n",
    "            gyan_total_marks.append(marks)\n",
    "        if student_name == 'Pranav':\n",
    "            pranav_total_marks.append(marks)\n",
    "\n",
    "\n",
    "    for i in ankit_total_marks:\n",
    "        result = int((sum(i)/total_marks)*100)\n",
    "        marks_percentage.append([result])\n",
    "\n",
    "    for i in aravind_total_marks:\n",
    "        result = int((sum(i)/total_marks)*100)\n",
    "        marks_percentage.append([result])\n",
    "\n",
    "    for i in lakshya_total_marks:\n",
    "        result = int((sum(i)/total_marks)*100)\n",
    "        marks_percentage.append([result])\n",
    "\n",
    "    for i in gyan_total_marks:\n",
    "        result = int((sum(i)/total_marks)*100)\n",
    "        marks_percentage.append([result])\n",
    "\n",
    "    for i in pranav_total_marks:\n",
    "        result = int((sum(i)/total_marks)*100)\n",
    "        marks_percentage.append([result])\n",
    "\n",
    "    for (i,j) in itertools.zip_longest(marks_percentage, filtered_name):\n",
    "            names_mark.append([i,j])\n",
    "\n",
    "    sorted_percentage_student=sorted(names_mark,reverse=True)\n",
    "\n",
    "    point = {'name':max(sorted_percentage_student)[1:6][0],'marks': max(sorted_percentage_student)[0][0]}\n",
    "    print(\"Highest percentage achieved by {name} = {marks}\".format_map(point))"
   ]
  },
  {
   "cell_type": "code",
   "execution_count": 35,
   "metadata": {},
   "outputs": [
    {
     "name": "stdout",
     "output_type": "stream",
     "text": [
      "Highest percentage achieved by Gyan = 25\n"
     ]
    }
   ],
   "source": [
    "highest_percentage_marks_top4(student_marks)"
   ]
  }
 ],
 "metadata": {
  "kernelspec": {
   "display_name": "Python 3",
   "language": "python",
   "name": "python3"
  },
  "language_info": {
   "codemirror_mode": {
    "name": "ipython",
    "version": 3
   },
   "file_extension": ".py",
   "mimetype": "text/x-python",
   "name": "python",
   "nbconvert_exporter": "python",
   "pygments_lexer": "ipython3",
   "version": "3.8.5"
  }
 },
 "nbformat": 4,
 "nbformat_minor": 5
}
